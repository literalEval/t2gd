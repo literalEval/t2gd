{
  "cells": [
    {
      "cell_type": "markdown",
      "metadata": {
        "id": "view-in-github",
        "colab_type": "text"
      },
      "source": [
        "<a href=\"https://colab.research.google.com/github/literalEval/t2gd/blob/main/t2gd.ipynb\" target=\"_parent\"><img src=\"https://colab.research.google.com/assets/colab-badge.svg\" alt=\"Open In Colab\"/></a>"
      ]
    },
    {
      "cell_type": "markdown",
      "metadata": {
        "id": "aQuWDmfm9YOi"
      },
      "source": [
        "# Download Torrents to GDrive\n",
        "\n",
        "Do star the repo if it helps you :)"
      ]
    },
    {
      "cell_type": "code",
      "execution_count": null,
      "metadata": {
        "id": "oWM9l2fvtuvO",
        "vscode": {
          "languageId": "python"
        }
      },
      "outputs": [],
      "source": [
        "# Access to GDrive is need for the script to put files in\n",
        "\n",
        "from google.colab import drive\n",
        "drive.mount('/content/drive')"
      ]
    },
    {
      "cell_type": "code",
      "execution_count": null,
      "metadata": {
        "id": "W7bH8OWlUBnZ",
        "vscode": {
          "languageId": "python"
        }
      },
      "outputs": [],
      "source": [
        "# Dependency - Libtorrent is used for torrenting\n",
        "\n",
        "!pip3 install lbry-libtorrent"
      ]
    },
    {
      "cell_type": "markdown",
      "metadata": {
        "id": "tqKcWHZcYRIA"
      },
      "source": [
        "##### Change the **link** variable to your torrent's magnet link\n"
      ]
    },
    {
      "cell_type": "code",
      "execution_count": null,
      "metadata": {
        "id": "b09BxnANO2ep",
        "vscode": {
          "languageId": "python"
        }
      },
      "outputs": [],
      "source": [
        "import time\n",
        "import datetime\n",
        "import libtorrent as libtor\n",
        "\n",
        "ses = libtor.session()\n",
        "ses.listen_on(6881, 6891)\n",
        "params = {\n",
        "    # Change this path to the location you want to store your downloaded files in\n",
        "    # Your normal drive is at /content/drive/MyDrive/\n",
        "    # Any shared drive (like intitute unlimited storage) is at /content/drive/Shareddrives/My Data/\n",
        "    \n",
        "    'save_path': '/content/drive/MyDrive/',\n",
        "    'storage_mode': libtor.storage_mode_t(2),\n",
        "    }\n",
        "\n",
        "# Add your magnet link here. Most torrent sites provide you with magnet links themselves.\n",
        "# But still, if you can only find the torrent file and not magnet link, you can fetch the\n",
        "# link from the file via any online service\n",
        "\n",
        "link = \"\"\n",
        "print(link)\n",
        "\n",
        "# Below is the standard use of libtorrent python package {copied directly from their docs :)}\n",
        "\n",
        "handle = libtor.add_magnet_uri(ses, link, params)\n",
        "ses.start_dht()\n",
        "\n",
        "begin = time.time()\n",
        "print(datetime.datetime.now())\n",
        "\n",
        "print ('Fetching Metadata...')\n",
        "while (not handle.has_metadata()):\n",
        "    time.sleep(1)\n",
        "    \n",
        "print ('Metadata Downloaded, Starting Download :)')\n",
        "print(\"Starting\", handle.name())\n",
        "\n",
        "state_str = ['queued', 'checking', 'downloading metadata', 'downloading', \\\n",
        "             'finished', 'seeding', 'allocating', '', '', '']\n",
        "\n",
        "while (handle.status().state != libtor.torrent_status.seeding):\n",
        "    s = handle.status()\n",
        "    \n",
        "    print ('%.2f%% complete (down: %.1f kb/s up: %.1f kB/s peers: %d) %s ' % \\\n",
        "            (s.progress * 100, s.download_rate / 1000, s.upload_rate / 1000, \\\n",
        "            s.num_peers, state_str[s.state]))\n",
        "    time.sleep(5)\n",
        "\n",
        "end = time.time()\n",
        "print(handle.name(), \"Download Complete\")\n",
        "\n",
        "print(\"Elapsed Time: \",int((end-begin)//60),\"min :\", int((end-begin)%60), \"sec\", \"at\", datetime.datetime.now())"
      ]
    }
  ],
  "metadata": {
    "colab": {
      "provenance": [],
      "include_colab_link": true
    },
    "kernelspec": {
      "display_name": "Python 3",
      "name": "python3"
    }
  },
  "nbformat": 4,
  "nbformat_minor": 0
}
